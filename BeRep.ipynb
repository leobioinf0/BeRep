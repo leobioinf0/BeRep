{
  "nbformat": 4,
  "nbformat_minor": 0,
  "metadata": {
    "colab": {
      "name": "BeRep.ipynb",
      "provenance": [],
      "collapsed_sections": [],
      "mount_file_id": "19gc14W9s1Z010482nbTmhtidov1Z-ipw",
      "authorship_tag": "ABX9TyNIGEOVHX9yTYd4eaE2A5ej",
      "include_colab_link": true
    },
    "kernelspec": {
      "name": "python3",
      "display_name": "Python 3"
    },
    "language_info": {
      "name": "python"
    }
  },
  "cells": [
    {
      "cell_type": "markdown",
      "metadata": {
        "id": "view-in-github",
        "colab_type": "text"
      },
      "source": [
        "<a href=\"https://colab.research.google.com/github/leobioinf0/BeRep/blob/main/BeRep.ipynb\" target=\"_parent\"><img src=\"https://colab.research.google.com/assets/colab-badge.svg\" alt=\"Open In Colab\"/></a>"
      ]
    },
    {
      "cell_type": "markdown",
      "metadata": {
        "id": "58ecb5a9-8898-4da7-87e4-0227bcd93a96"
      },
      "source": [
        "# Load Dependencies"
      ]
    },
    {
      "cell_type": "code",
      "source": [
        "import pandas as pd, numpy as np, itertools"
      ],
      "metadata": {
        "id": "QGpbl3dX7Yea"
      },
      "execution_count": 1,
      "outputs": []
    },
    {
      "cell_type": "markdown",
      "source": [
        "## Simple ten-liner"
      ],
      "metadata": {
        "id": "ZbUXCpfI8yC6"
      }
    },
    {
      "cell_type": "code",
      "source": [
        "df = pd.read_csv(filepath_or_buffer=\"/content/drive/MyDrive/BeRep/Data.csv\", usecols=['user_id', 'program']) #Load Dataframe\n",
        "df.drop_duplicates(inplace=True) #drop duplicates\n",
        "df = pd.crosstab(df[\"user_id\"],df[\"program\"]).reset_index(drop=True) #frequency table of factors\n",
        "out = pd.DataFrame(columns=df.columns, index=df.columns) #create empty df\n",
        "for i, j in itertools.combinations_with_replacement(df.columns, 2): # count subscribed users for each programs pair combination\n",
        "    if i == j:\n",
        "        out.loc[i,j] = df[i].sum()\n",
        "    else:\n",
        "        out.loc[i,j] = out.loc[j,i] = np.count_nonzero((df[i]!=0) & (df[j]!=0))\n",
        "out.to_excel(\"/content/drive/MyDrive/BeRep/01-obtained_deliverable.xlsx\") #Export Dataframe To Excel"
      ],
      "metadata": {
        "id": "o-L6HL17vgDS"
      },
      "execution_count": 3,
      "outputs": []
    },
    {
      "cell_type": "markdown",
      "source": [
        "expected_deliverable.png\n",
        "![expected_deliverable.png](https://github.com/leobioinf0/BeRep/blob/main/expected_deliverable.png?raw=true)"
      ],
      "metadata": {
        "id": "77GXW2E6X9rK"
      }
    },
    {
      "cell_type": "markdown",
      "source": [
        "obtained_deliverable.png\n",
        "![obtained_deliverable.png](https://github.com/leobioinf0/BeRep/blob/main/obtained_deliverable.png?raw=true)"
      ],
      "metadata": {
        "id": "KTpZgVggZIt1"
      }
    },
    {
      "cell_type": "markdown",
      "source": [
        "## Observed error"
      ],
      "metadata": {
        "id": "EIcBYjNngXBf"
      }
    },
    {
      "cell_type": "markdown",
      "source": [
        "I have observed that to obtain a result identical to the expected one, it is necessary to commit an error.\n",
        "The error consists in eliminating the duplicates without taking into account the `subscription_date` variable.\n",
        "\n",
        "To explain what I mean I will load the data again, but this time I will keep and parse the variable `subscription_date`"
      ],
      "metadata": {
        "id": "2ctuPeV7_EQ2"
      }
    },
    {
      "cell_type": "code",
      "source": [
        "#Patience! Parsing the dates can take a couple of minutes. :)\n",
        "df = pd.read_csv(filepath_or_buffer=\"/content/drive/MyDrive/BeRep/Data.csv\",parse_dates=[\"subscription_date\"])"
      ],
      "metadata": {
        "id": "DjT3UTkB_aIq"
      },
      "execution_count": 4,
      "outputs": []
    },
    {
      "cell_type": "markdown",
      "source": [
        "We can see that if we do not take into account the `subscription_date` variable, the data has `11994` duplicate entries."
      ],
      "metadata": {
        "id": "a6I-NJjCAVkk"
      }
    },
    {
      "cell_type": "code",
      "source": [
        "print(df[['user_id', 'program']].duplicated().sum())"
      ],
      "metadata": {
        "colab": {
          "base_uri": "https://localhost:8080/"
        },
        "id": "0FINUma8BZ6z",
        "outputId": "3b4c01e0-2ab1-42d2-ea9b-a2d125e0d6b5"
      },
      "execution_count": 5,
      "outputs": [
        {
          "output_type": "stream",
          "name": "stdout",
          "text": [
            "11994\n"
          ]
        }
      ]
    },
    {
      "cell_type": "markdown",
      "source": [
        "If we carry out a brute elimination of these `11994` duplicates, the results we will obtain will be identical to the expected ones."
      ],
      "metadata": {
        "id": "e5RfJfNlp-RA"
      }
    },
    {
      "cell_type": "markdown",
      "source": [
        "However, when we take `subscription_date` into account, the data only shows `25` duplicates "
      ],
      "metadata": {
        "id": "83JSj984AxEp"
      }
    },
    {
      "cell_type": "code",
      "source": [
        "print(df.duplicated().sum())"
      ],
      "metadata": {
        "colab": {
          "base_uri": "https://localhost:8080/"
        },
        "id": "OguWLv0m_Lvd",
        "outputId": "329bd572-afbb-4012-be97-df518e775d18"
      },
      "execution_count": 6,
      "outputs": [
        {
          "output_type": "stream",
          "name": "stdout",
          "text": [
            "25\n"
          ]
        }
      ]
    },
    {
      "cell_type": "markdown",
      "source": [
        "Accepting these premises we can make some assumptions:\n",
        "\n",
        "Different types of duplicates can be interpreted in different ways. \n",
        "1. Full duplicated entries, containing exactly the same `subscription_date` (ie: same date and same time), are true duplicates, so one of them should be removed since two events cannot occur at the same time. For example: \n",
        "\n"
      ],
      "metadata": {
        "id": "sRU3AyrjDUKp"
      }
    },
    {
      "cell_type": "code",
      "source": [
        "df.iloc[[622819,622927]]"
      ],
      "metadata": {
        "colab": {
          "base_uri": "https://localhost:8080/",
          "height": 112
        },
        "id": "p9PqjJMlFWp4",
        "outputId": "72e649e7-ec7d-4c89-aaad-459de49d6c09"
      },
      "execution_count": 7,
      "outputs": [
        {
          "output_type": "execute_result",
          "data": {
            "text/plain": [
              "                                                  user_id   subscription_date  \\\n",
              "622819  ba98a4592609eb4fd7a7d6d1b0ce765b717dcf1f853b73... 2021-10-25 12:00:00   \n",
              "622927  ba98a4592609eb4fd7a7d6d1b0ce765b717dcf1f853b73... 2021-10-25 12:00:00   \n",
              "\n",
              "       program  \n",
              "622819    CXPI  \n",
              "622927    CXPI  "
            ],
            "text/html": [
              "\n",
              "  <div id=\"df-5a9f953b-6244-492e-a54b-57d1e93d5ea8\">\n",
              "    <div class=\"colab-df-container\">\n",
              "      <div>\n",
              "<style scoped>\n",
              "    .dataframe tbody tr th:only-of-type {\n",
              "        vertical-align: middle;\n",
              "    }\n",
              "\n",
              "    .dataframe tbody tr th {\n",
              "        vertical-align: top;\n",
              "    }\n",
              "\n",
              "    .dataframe thead th {\n",
              "        text-align: right;\n",
              "    }\n",
              "</style>\n",
              "<table border=\"1\" class=\"dataframe\">\n",
              "  <thead>\n",
              "    <tr style=\"text-align: right;\">\n",
              "      <th></th>\n",
              "      <th>user_id</th>\n",
              "      <th>subscription_date</th>\n",
              "      <th>program</th>\n",
              "    </tr>\n",
              "  </thead>\n",
              "  <tbody>\n",
              "    <tr>\n",
              "      <th>622819</th>\n",
              "      <td>ba98a4592609eb4fd7a7d6d1b0ce765b717dcf1f853b73...</td>\n",
              "      <td>2021-10-25 12:00:00</td>\n",
              "      <td>CXPI</td>\n",
              "    </tr>\n",
              "    <tr>\n",
              "      <th>622927</th>\n",
              "      <td>ba98a4592609eb4fd7a7d6d1b0ce765b717dcf1f853b73...</td>\n",
              "      <td>2021-10-25 12:00:00</td>\n",
              "      <td>CXPI</td>\n",
              "    </tr>\n",
              "  </tbody>\n",
              "</table>\n",
              "</div>\n",
              "      <button class=\"colab-df-convert\" onclick=\"convertToInteractive('df-5a9f953b-6244-492e-a54b-57d1e93d5ea8')\"\n",
              "              title=\"Convert this dataframe to an interactive table.\"\n",
              "              style=\"display:none;\">\n",
              "        \n",
              "  <svg xmlns=\"http://www.w3.org/2000/svg\" height=\"24px\"viewBox=\"0 0 24 24\"\n",
              "       width=\"24px\">\n",
              "    <path d=\"M0 0h24v24H0V0z\" fill=\"none\"/>\n",
              "    <path d=\"M18.56 5.44l.94 2.06.94-2.06 2.06-.94-2.06-.94-.94-2.06-.94 2.06-2.06.94zm-11 1L8.5 8.5l.94-2.06 2.06-.94-2.06-.94L8.5 2.5l-.94 2.06-2.06.94zm10 10l.94 2.06.94-2.06 2.06-.94-2.06-.94-.94-2.06-.94 2.06-2.06.94z\"/><path d=\"M17.41 7.96l-1.37-1.37c-.4-.4-.92-.59-1.43-.59-.52 0-1.04.2-1.43.59L10.3 9.45l-7.72 7.72c-.78.78-.78 2.05 0 2.83L4 21.41c.39.39.9.59 1.41.59.51 0 1.02-.2 1.41-.59l7.78-7.78 2.81-2.81c.8-.78.8-2.07 0-2.86zM5.41 20L4 18.59l7.72-7.72 1.47 1.35L5.41 20z\"/>\n",
              "  </svg>\n",
              "      </button>\n",
              "      \n",
              "  <style>\n",
              "    .colab-df-container {\n",
              "      display:flex;\n",
              "      flex-wrap:wrap;\n",
              "      gap: 12px;\n",
              "    }\n",
              "\n",
              "    .colab-df-convert {\n",
              "      background-color: #E8F0FE;\n",
              "      border: none;\n",
              "      border-radius: 50%;\n",
              "      cursor: pointer;\n",
              "      display: none;\n",
              "      fill: #1967D2;\n",
              "      height: 32px;\n",
              "      padding: 0 0 0 0;\n",
              "      width: 32px;\n",
              "    }\n",
              "\n",
              "    .colab-df-convert:hover {\n",
              "      background-color: #E2EBFA;\n",
              "      box-shadow: 0px 1px 2px rgba(60, 64, 67, 0.3), 0px 1px 3px 1px rgba(60, 64, 67, 0.15);\n",
              "      fill: #174EA6;\n",
              "    }\n",
              "\n",
              "    [theme=dark] .colab-df-convert {\n",
              "      background-color: #3B4455;\n",
              "      fill: #D2E3FC;\n",
              "    }\n",
              "\n",
              "    [theme=dark] .colab-df-convert:hover {\n",
              "      background-color: #434B5C;\n",
              "      box-shadow: 0px 1px 3px 1px rgba(0, 0, 0, 0.15);\n",
              "      filter: drop-shadow(0px 1px 2px rgba(0, 0, 0, 0.3));\n",
              "      fill: #FFFFFF;\n",
              "    }\n",
              "  </style>\n",
              "\n",
              "      <script>\n",
              "        const buttonEl =\n",
              "          document.querySelector('#df-5a9f953b-6244-492e-a54b-57d1e93d5ea8 button.colab-df-convert');\n",
              "        buttonEl.style.display =\n",
              "          google.colab.kernel.accessAllowed ? 'block' : 'none';\n",
              "\n",
              "        async function convertToInteractive(key) {\n",
              "          const element = document.querySelector('#df-5a9f953b-6244-492e-a54b-57d1e93d5ea8');\n",
              "          const dataTable =\n",
              "            await google.colab.kernel.invokeFunction('convertToInteractive',\n",
              "                                                     [key], {});\n",
              "          if (!dataTable) return;\n",
              "\n",
              "          const docLinkHtml = 'Like what you see? Visit the ' +\n",
              "            '<a target=\"_blank\" href=https://colab.research.google.com/notebooks/data_table.ipynb>data table notebook</a>'\n",
              "            + ' to learn more about interactive tables.';\n",
              "          element.innerHTML = '';\n",
              "          dataTable['output_type'] = 'display_data';\n",
              "          await google.colab.output.renderOutput(dataTable, element);\n",
              "          const docLink = document.createElement('div');\n",
              "          docLink.innerHTML = docLinkHtml;\n",
              "          element.appendChild(docLink);\n",
              "        }\n",
              "      </script>\n",
              "    </div>\n",
              "  </div>\n",
              "  "
            ]
          },
          "metadata": {},
          "execution_count": 7
        }
      ]
    },
    {
      "cell_type": "markdown",
      "source": [
        "This must be a **true duplicate** since it doesn't make sense for a user to subscribe to a program twice at exactly the same day and time."
      ],
      "metadata": {
        "id": "ly_0XlO7ifAR"
      }
    },
    {
      "cell_type": "markdown",
      "source": [
        "2. But duplicated entries with the same `user_id` and the same `program` but different `subscription_date` can be interpreted as first a \"**subscribe**\" event and second as an \"**unsubscribe**\" event. For example:\n",
        "\n"
      ],
      "metadata": {
        "id": "qEaKZq8_GoKM"
      }
    },
    {
      "cell_type": "code",
      "source": [
        "df.iloc[[43966,44404]]"
      ],
      "metadata": {
        "colab": {
          "base_uri": "https://localhost:8080/",
          "height": 112
        },
        "id": "YtFOjJ8dHGnV",
        "outputId": "53069f4b-8243-45a3-c46f-5de1d3d29ce6"
      },
      "execution_count": 8,
      "outputs": [
        {
          "output_type": "execute_result",
          "data": {
            "text/plain": [
              "                                                 user_id   subscription_date  \\\n",
              "43966  61eb4abcc06b6a0afb496e52c36133db2fc10d36a5621e... 2021-12-03 01:00:00   \n",
              "44404  61eb4abcc06b6a0afb496e52c36133db2fc10d36a5621e... 2022-02-21 12:13:57   \n",
              "\n",
              "      program  \n",
              "43966     OBS  \n",
              "44404     OBS  "
            ],
            "text/html": [
              "\n",
              "  <div id=\"df-6aa61c91-a8ce-4c21-b9f3-fc9cba8f84fd\">\n",
              "    <div class=\"colab-df-container\">\n",
              "      <div>\n",
              "<style scoped>\n",
              "    .dataframe tbody tr th:only-of-type {\n",
              "        vertical-align: middle;\n",
              "    }\n",
              "\n",
              "    .dataframe tbody tr th {\n",
              "        vertical-align: top;\n",
              "    }\n",
              "\n",
              "    .dataframe thead th {\n",
              "        text-align: right;\n",
              "    }\n",
              "</style>\n",
              "<table border=\"1\" class=\"dataframe\">\n",
              "  <thead>\n",
              "    <tr style=\"text-align: right;\">\n",
              "      <th></th>\n",
              "      <th>user_id</th>\n",
              "      <th>subscription_date</th>\n",
              "      <th>program</th>\n",
              "    </tr>\n",
              "  </thead>\n",
              "  <tbody>\n",
              "    <tr>\n",
              "      <th>43966</th>\n",
              "      <td>61eb4abcc06b6a0afb496e52c36133db2fc10d36a5621e...</td>\n",
              "      <td>2021-12-03 01:00:00</td>\n",
              "      <td>OBS</td>\n",
              "    </tr>\n",
              "    <tr>\n",
              "      <th>44404</th>\n",
              "      <td>61eb4abcc06b6a0afb496e52c36133db2fc10d36a5621e...</td>\n",
              "      <td>2022-02-21 12:13:57</td>\n",
              "      <td>OBS</td>\n",
              "    </tr>\n",
              "  </tbody>\n",
              "</table>\n",
              "</div>\n",
              "      <button class=\"colab-df-convert\" onclick=\"convertToInteractive('df-6aa61c91-a8ce-4c21-b9f3-fc9cba8f84fd')\"\n",
              "              title=\"Convert this dataframe to an interactive table.\"\n",
              "              style=\"display:none;\">\n",
              "        \n",
              "  <svg xmlns=\"http://www.w3.org/2000/svg\" height=\"24px\"viewBox=\"0 0 24 24\"\n",
              "       width=\"24px\">\n",
              "    <path d=\"M0 0h24v24H0V0z\" fill=\"none\"/>\n",
              "    <path d=\"M18.56 5.44l.94 2.06.94-2.06 2.06-.94-2.06-.94-.94-2.06-.94 2.06-2.06.94zm-11 1L8.5 8.5l.94-2.06 2.06-.94-2.06-.94L8.5 2.5l-.94 2.06-2.06.94zm10 10l.94 2.06.94-2.06 2.06-.94-2.06-.94-.94-2.06-.94 2.06-2.06.94z\"/><path d=\"M17.41 7.96l-1.37-1.37c-.4-.4-.92-.59-1.43-.59-.52 0-1.04.2-1.43.59L10.3 9.45l-7.72 7.72c-.78.78-.78 2.05 0 2.83L4 21.41c.39.39.9.59 1.41.59.51 0 1.02-.2 1.41-.59l7.78-7.78 2.81-2.81c.8-.78.8-2.07 0-2.86zM5.41 20L4 18.59l7.72-7.72 1.47 1.35L5.41 20z\"/>\n",
              "  </svg>\n",
              "      </button>\n",
              "      \n",
              "  <style>\n",
              "    .colab-df-container {\n",
              "      display:flex;\n",
              "      flex-wrap:wrap;\n",
              "      gap: 12px;\n",
              "    }\n",
              "\n",
              "    .colab-df-convert {\n",
              "      background-color: #E8F0FE;\n",
              "      border: none;\n",
              "      border-radius: 50%;\n",
              "      cursor: pointer;\n",
              "      display: none;\n",
              "      fill: #1967D2;\n",
              "      height: 32px;\n",
              "      padding: 0 0 0 0;\n",
              "      width: 32px;\n",
              "    }\n",
              "\n",
              "    .colab-df-convert:hover {\n",
              "      background-color: #E2EBFA;\n",
              "      box-shadow: 0px 1px 2px rgba(60, 64, 67, 0.3), 0px 1px 3px 1px rgba(60, 64, 67, 0.15);\n",
              "      fill: #174EA6;\n",
              "    }\n",
              "\n",
              "    [theme=dark] .colab-df-convert {\n",
              "      background-color: #3B4455;\n",
              "      fill: #D2E3FC;\n",
              "    }\n",
              "\n",
              "    [theme=dark] .colab-df-convert:hover {\n",
              "      background-color: #434B5C;\n",
              "      box-shadow: 0px 1px 3px 1px rgba(0, 0, 0, 0.15);\n",
              "      filter: drop-shadow(0px 1px 2px rgba(0, 0, 0, 0.3));\n",
              "      fill: #FFFFFF;\n",
              "    }\n",
              "  </style>\n",
              "\n",
              "      <script>\n",
              "        const buttonEl =\n",
              "          document.querySelector('#df-6aa61c91-a8ce-4c21-b9f3-fc9cba8f84fd button.colab-df-convert');\n",
              "        buttonEl.style.display =\n",
              "          google.colab.kernel.accessAllowed ? 'block' : 'none';\n",
              "\n",
              "        async function convertToInteractive(key) {\n",
              "          const element = document.querySelector('#df-6aa61c91-a8ce-4c21-b9f3-fc9cba8f84fd');\n",
              "          const dataTable =\n",
              "            await google.colab.kernel.invokeFunction('convertToInteractive',\n",
              "                                                     [key], {});\n",
              "          if (!dataTable) return;\n",
              "\n",
              "          const docLinkHtml = 'Like what you see? Visit the ' +\n",
              "            '<a target=\"_blank\" href=https://colab.research.google.com/notebooks/data_table.ipynb>data table notebook</a>'\n",
              "            + ' to learn more about interactive tables.';\n",
              "          element.innerHTML = '';\n",
              "          dataTable['output_type'] = 'display_data';\n",
              "          await google.colab.output.renderOutput(dataTable, element);\n",
              "          const docLink = document.createElement('div');\n",
              "          docLink.innerHTML = docLinkHtml;\n",
              "          element.appendChild(docLink);\n",
              "        }\n",
              "      </script>\n",
              "    </div>\n",
              "  </div>\n",
              "  "
            ]
          },
          "metadata": {},
          "execution_count": 8
        }
      ]
    },
    {
      "cell_type": "markdown",
      "source": [
        "This can be interpreted as the user having subscribed to the `OBS` program on `2021-12-03 01:00:00` and then unsubscribed on `2022-02-21 12:13:57`. If this were the case, we would have to remove both records to get a true count of users who are subscribed to the programs."
      ],
      "metadata": {
        "id": "yrdamF4pjLiP"
      }
    },
    {
      "cell_type": "markdown",
      "source": [
        "3. Following this line of thought, we can say that if we found an even number of duplicate entries with the same `user_id` and the same `program` but a different `subscription_date`, the user's current status would be **\"unsubscribed\"** to the program. But if duplicate entries are found in odd number, the user's current state in the program would be **\"subscribed\"** so it should count as one, so only the last record should be kept. For example:"
      ],
      "metadata": {
        "id": "EU65hDlyIQkU"
      }
    },
    {
      "cell_type": "code",
      "source": [
        "df[(df.user_id == \"1f646282d4fe1a047097ef73940e8b9e682889836c6714c33b7bfdc8f74d3536\")&(df.program == \"OBS\")].sort_values(by=[\"subscription_date\"])"
      ],
      "metadata": {
        "colab": {
          "base_uri": "https://localhost:8080/",
          "height": 206
        },
        "id": "6c58-CDmKvOL",
        "outputId": "c41ad7da-e448-412b-e42b-cc12b5d21d2c"
      },
      "execution_count": 9,
      "outputs": [
        {
          "output_type": "execute_result",
          "data": {
            "text/plain": [
              "                                                   user_id  \\\n",
              "1535463  1f646282d4fe1a047097ef73940e8b9e682889836c6714...   \n",
              "1545290  1f646282d4fe1a047097ef73940e8b9e682889836c6714...   \n",
              "1193661  1f646282d4fe1a047097ef73940e8b9e682889836c6714...   \n",
              "1560467  1f646282d4fe1a047097ef73940e8b9e682889836c6714...   \n",
              "1564101  1f646282d4fe1a047097ef73940e8b9e682889836c6714...   \n",
              "\n",
              "          subscription_date program  \n",
              "1535463 2019-09-30 23:05:10     OBS  \n",
              "1545290 2021-09-15 09:22:20     OBS  \n",
              "1193661 2021-12-01 08:47:11     OBS  \n",
              "1560467 2021-12-15 08:38:07     OBS  \n",
              "1564101 2022-01-19 08:59:23     OBS  "
            ],
            "text/html": [
              "\n",
              "  <div id=\"df-c7461304-ad87-4609-8246-81415543459d\">\n",
              "    <div class=\"colab-df-container\">\n",
              "      <div>\n",
              "<style scoped>\n",
              "    .dataframe tbody tr th:only-of-type {\n",
              "        vertical-align: middle;\n",
              "    }\n",
              "\n",
              "    .dataframe tbody tr th {\n",
              "        vertical-align: top;\n",
              "    }\n",
              "\n",
              "    .dataframe thead th {\n",
              "        text-align: right;\n",
              "    }\n",
              "</style>\n",
              "<table border=\"1\" class=\"dataframe\">\n",
              "  <thead>\n",
              "    <tr style=\"text-align: right;\">\n",
              "      <th></th>\n",
              "      <th>user_id</th>\n",
              "      <th>subscription_date</th>\n",
              "      <th>program</th>\n",
              "    </tr>\n",
              "  </thead>\n",
              "  <tbody>\n",
              "    <tr>\n",
              "      <th>1535463</th>\n",
              "      <td>1f646282d4fe1a047097ef73940e8b9e682889836c6714...</td>\n",
              "      <td>2019-09-30 23:05:10</td>\n",
              "      <td>OBS</td>\n",
              "    </tr>\n",
              "    <tr>\n",
              "      <th>1545290</th>\n",
              "      <td>1f646282d4fe1a047097ef73940e8b9e682889836c6714...</td>\n",
              "      <td>2021-09-15 09:22:20</td>\n",
              "      <td>OBS</td>\n",
              "    </tr>\n",
              "    <tr>\n",
              "      <th>1193661</th>\n",
              "      <td>1f646282d4fe1a047097ef73940e8b9e682889836c6714...</td>\n",
              "      <td>2021-12-01 08:47:11</td>\n",
              "      <td>OBS</td>\n",
              "    </tr>\n",
              "    <tr>\n",
              "      <th>1560467</th>\n",
              "      <td>1f646282d4fe1a047097ef73940e8b9e682889836c6714...</td>\n",
              "      <td>2021-12-15 08:38:07</td>\n",
              "      <td>OBS</td>\n",
              "    </tr>\n",
              "    <tr>\n",
              "      <th>1564101</th>\n",
              "      <td>1f646282d4fe1a047097ef73940e8b9e682889836c6714...</td>\n",
              "      <td>2022-01-19 08:59:23</td>\n",
              "      <td>OBS</td>\n",
              "    </tr>\n",
              "  </tbody>\n",
              "</table>\n",
              "</div>\n",
              "      <button class=\"colab-df-convert\" onclick=\"convertToInteractive('df-c7461304-ad87-4609-8246-81415543459d')\"\n",
              "              title=\"Convert this dataframe to an interactive table.\"\n",
              "              style=\"display:none;\">\n",
              "        \n",
              "  <svg xmlns=\"http://www.w3.org/2000/svg\" height=\"24px\"viewBox=\"0 0 24 24\"\n",
              "       width=\"24px\">\n",
              "    <path d=\"M0 0h24v24H0V0z\" fill=\"none\"/>\n",
              "    <path d=\"M18.56 5.44l.94 2.06.94-2.06 2.06-.94-2.06-.94-.94-2.06-.94 2.06-2.06.94zm-11 1L8.5 8.5l.94-2.06 2.06-.94-2.06-.94L8.5 2.5l-.94 2.06-2.06.94zm10 10l.94 2.06.94-2.06 2.06-.94-2.06-.94-.94-2.06-.94 2.06-2.06.94z\"/><path d=\"M17.41 7.96l-1.37-1.37c-.4-.4-.92-.59-1.43-.59-.52 0-1.04.2-1.43.59L10.3 9.45l-7.72 7.72c-.78.78-.78 2.05 0 2.83L4 21.41c.39.39.9.59 1.41.59.51 0 1.02-.2 1.41-.59l7.78-7.78 2.81-2.81c.8-.78.8-2.07 0-2.86zM5.41 20L4 18.59l7.72-7.72 1.47 1.35L5.41 20z\"/>\n",
              "  </svg>\n",
              "      </button>\n",
              "      \n",
              "  <style>\n",
              "    .colab-df-container {\n",
              "      display:flex;\n",
              "      flex-wrap:wrap;\n",
              "      gap: 12px;\n",
              "    }\n",
              "\n",
              "    .colab-df-convert {\n",
              "      background-color: #E8F0FE;\n",
              "      border: none;\n",
              "      border-radius: 50%;\n",
              "      cursor: pointer;\n",
              "      display: none;\n",
              "      fill: #1967D2;\n",
              "      height: 32px;\n",
              "      padding: 0 0 0 0;\n",
              "      width: 32px;\n",
              "    }\n",
              "\n",
              "    .colab-df-convert:hover {\n",
              "      background-color: #E2EBFA;\n",
              "      box-shadow: 0px 1px 2px rgba(60, 64, 67, 0.3), 0px 1px 3px 1px rgba(60, 64, 67, 0.15);\n",
              "      fill: #174EA6;\n",
              "    }\n",
              "\n",
              "    [theme=dark] .colab-df-convert {\n",
              "      background-color: #3B4455;\n",
              "      fill: #D2E3FC;\n",
              "    }\n",
              "\n",
              "    [theme=dark] .colab-df-convert:hover {\n",
              "      background-color: #434B5C;\n",
              "      box-shadow: 0px 1px 3px 1px rgba(0, 0, 0, 0.15);\n",
              "      filter: drop-shadow(0px 1px 2px rgba(0, 0, 0, 0.3));\n",
              "      fill: #FFFFFF;\n",
              "    }\n",
              "  </style>\n",
              "\n",
              "      <script>\n",
              "        const buttonEl =\n",
              "          document.querySelector('#df-c7461304-ad87-4609-8246-81415543459d button.colab-df-convert');\n",
              "        buttonEl.style.display =\n",
              "          google.colab.kernel.accessAllowed ? 'block' : 'none';\n",
              "\n",
              "        async function convertToInteractive(key) {\n",
              "          const element = document.querySelector('#df-c7461304-ad87-4609-8246-81415543459d');\n",
              "          const dataTable =\n",
              "            await google.colab.kernel.invokeFunction('convertToInteractive',\n",
              "                                                     [key], {});\n",
              "          if (!dataTable) return;\n",
              "\n",
              "          const docLinkHtml = 'Like what you see? Visit the ' +\n",
              "            '<a target=\"_blank\" href=https://colab.research.google.com/notebooks/data_table.ipynb>data table notebook</a>'\n",
              "            + ' to learn more about interactive tables.';\n",
              "          element.innerHTML = '';\n",
              "          dataTable['output_type'] = 'display_data';\n",
              "          await google.colab.output.renderOutput(dataTable, element);\n",
              "          const docLink = document.createElement('div');\n",
              "          docLink.innerHTML = docLinkHtml;\n",
              "          element.appendChild(docLink);\n",
              "        }\n",
              "      </script>\n",
              "    </div>\n",
              "  </div>\n",
              "  "
            ]
          },
          "metadata": {},
          "execution_count": 9
        }
      ]
    },
    {
      "cell_type": "markdown",
      "source": [
        "This can be interpreted as:\n",
        "1. subscribed on `2019-09-30 23:05:10`\n",
        "2. unsubscribed on `2021-09-15 09:22:20`\n",
        "3. subscribed on `2021-12-01 08:47:11`\n",
        "4. unsubscribed on `2021-12-15 08:38:07`\n",
        "5. and finally subscribed on `2022-01-19 08:59:23`"
      ],
      "metadata": {
        "id": "l_8rFeSJl-1B"
      }
    },
    {
      "cell_type": "markdown",
      "source": [
        "Finally, in my humble opinion, I think that doing a simple `drop_duplicates()` without taking into account the different cases would lead us to obtain incorrect results."
      ],
      "metadata": {
        "id": "ZXtlCDOCnLBv"
      }
    }
  ]
}